{
 "metadata": {
  "name": "",
  "signature": "sha256:6930aa9062b34835736e46a055bea6c67e86098917b05bcddc7c1289eca4c671"
 },
 "nbformat": 3,
 "nbformat_minor": 0,
 "worksheets": [
  {
   "cells": [
    {
     "cell_type": "code",
     "collapsed": false,
     "input": [
      "import numpy as np"
     ],
     "language": "python",
     "metadata": {},
     "outputs": [],
     "prompt_number": 1
    },
    {
     "cell_type": "code",
     "collapsed": false,
     "input": [
      "filepath = 'flags_combination'  \n",
      "with open(filepath) as fp:  \n",
      "   flags = fp.readline()\n",
      "   cnt = 1\n",
      "   while flags:\n",
      "       writeMakeFile(flags, cnt)\n",
      "       flags = fp.readline()\n",
      "       cnt += 1"
     ],
     "language": "python",
     "metadata": {},
     "outputs": [],
     "prompt_number": 25
    },
    {
     "cell_type": "code",
     "collapsed": false,
     "input": [
      "def writeMakeFile(flags, index):\n",
      "    makefilestring=\"\"\"#default build suggestion of MPI + OPENMP with gcc on Livermore machines you might have to change the compiler name\n",
      "    \n",
      "SHELL = /bin/sh\n",
      ".SUFFIXES: .cc .o\n",
      "\n",
      "LULESH_EXEC = lulesh2.0\n",
      "\n",
      "MPI_INC = /opt/local/include/openmpi\n",
      "MPI_LIB = /opt/local/lib\n",
      "\n",
      "SERCXX = g++ -DUSE_MPI=0\n",
      "MPICXX = mpig++ -DUSE_MPI=1\n",
      "CXX = $(MPICXX)\n",
      "\n",
      "SOURCES2.0 = \\\n",
      "    lulesh.cc \\\n",
      "    lulesh-comm.cc \\\n",
      "    lulesh-viz.cc \\\n",
      "    lulesh-util.cc \\\n",
      "    lulesh-init.cc\n",
      "OBJECTS2.0 = $(SOURCES2.0:.cc=.o)\n",
      "\n",
      "#Default build suggestions with OpenMP for g++\n",
      "CXXFLAGS = -O3 %s\n",
      "LDFLAGS = -g -O3 -fopenmp\n",
      "\n",
      "#Below are reasonable default flags for a serial build\n",
      "#CXXFLAGS = -g -O3 -I. -Wall \n",
      "#LDFLAGS = -g -O3 \n",
      "\n",
      "#common places you might find silo on the Livermore machines.\n",
      "#SILO_INCDIR = /opt/local/include\n",
      "#SILO_LIBDIR = /opt/local/lib\n",
      "#SILO_INCDIR = ./silo/4.9/1.8.10.1/include\n",
      "#SILO_LIBDIR = ./silo/4.9/1.8.10.1/lib\n",
      "\n",
      "#If you do not have silo and visit you can get them at:\n",
      "#silo:  https://wci.llnl.gov/codes/silo/downloads.html\n",
      "#visit: https://wci.llnl.gov/codes/visit/download.html\n",
      "\n",
      "#below is and example of how to make with silo, hdf5 to get vizulization by default all this is turned off.  All paths are Livermore specific.\n",
      "#CXXFLAGS = -g -DVIZ_MESH -I${SILO_INCDIR} -Wall -Wno-pragmas\n",
      "#LDFLAGS = -g -L${SILO_LIBDIR} -Wl,-rpath -Wl,${SILO_LIBDIR} -lsiloh5 -lhdf5\n",
      "\n",
      ".cc.o: lulesh.h\n",
      "    @echo \"Building $<\"\n",
      "    $(CXX) -c $(CXXFLAGS) -o $@  $<\n",
      "\n",
      "all: $(LULESH_EXEC)\n",
      "\n",
      "lulesh2.0: $(OBJECTS2.0)\n",
      "    @echo \"Linking\"\n",
      "    $(CXX) $(OBJECTS2.0) $(LDFLAGS) -lm -o $@\n",
      "\n",
      "clean:\n",
      "    /bin/rm -f *.o *~ $(OBJECTS) $(LULESH_EXEC)\n",
      "    /bin/rm -rf *.dSYM\n",
      "\n",
      "tar: clean\n",
      "    cd .. ; tar cvf lulesh-2.0.tar LULESH-2.0 ; mv lulesh-2.0.tar LULESH-2.0\n",
      "\"\"\" % (flags)\n",
      "    f = open('Makefile%i'%index, 'w')\n",
      "    f.write(makefilestring)\n",
      "    f.closed"
     ],
     "language": "python",
     "metadata": {},
     "outputs": [],
     "prompt_number": 24
    },
    {
     "cell_type": "code",
     "collapsed": false,
     "input": [
      "makefilestring"
     ],
     "language": "python",
     "metadata": {},
     "outputs": [
      {
       "metadata": {},
       "output_type": "pyout",
       "prompt_number": 11,
       "text": [
        "'#default build suggestion of MPI + OPENMP with gcc on Livermore machines you might have to change the compiler name\\n\\n\\n\\nSHELL = /bin/sh.SUFFIXES: .cc .o\\n\\n\\nLULESH_EXEC = lulesh2.0\\n\\n\\nMPI_INC = /opt/local/include/openmpi\\n\\nMPI_LIB = /opt/local/lib\\n\\n\\nSERCXX = g++ -DUSE_MPI=0\\n\\nMPICXX = mpig++ -DUSE_MPI=1\\n\\nCXX = $(MPICXX)\\n\\n\\nSOURCES2.0 = \\\\n\\n\\tlulesh.cc \\\\n\\n\\tlulesh-comm.cc \\\\n\\n\\tlulesh-viz.cc \\\\n\\n\\tlulesh-util.cc \\\\n\\n\\tlulesh-init.cc\\n\\nOBJECTS2.0 = $(SOURCES2.0:.cc=.o)\\n\\n\\n#Default build suggestions with OpenMP for g++\\n\\nCXXFLAGS = -g -O3 -fopenmp -I. -Wall\\n\\nLDFLAGS = -g -O3 -fopenmp\\n\\n\\n#Below are reasonable default flags for a serial build\\n\\n#CXXFLAGS = -g -O3 -I. -Wall\\n\\n#LDFLAGS = -g -O3 \\n\\n\\n#common places you might find silo on the Livermore machines.\\n\\n#SILO_INCDIR = /opt/local/include\\n\\n#SILO_LIBDIR = /opt/local/lib\\n\\n#SILO_INCDIR = ./silo/4.9/1.8.10.1/include\\n\\n#SILO_LIBDIR = ./silo/4.9/1.8.10.1/lib\\n\\n\\n#If you do not have silo and visit you can get them at:\\n\\n#silo:  https://wci.llnl.gov/codes/silo/downloads.html\\n\\n#visit: https://wci.llnl.gov/codes/visit/download.html\\n\\n\\n#below is and example of how to make with silo, hdf5 to get vizulization by default all this is turned off.  All paths are Livermore specific.\\n\\n#CXXFLAGS = -g -DVIZ_MESH -I${SILO_INCDIR} -Wall -Wno-pragmas\\n\\n#LDFLAGS = -g -L${SILO_LIBDIR} -Wl,-rpath -Wl,${SILO_LIBDIR} -lsiloh5 -lhdf5\\n\\n\\n.cc.o: lulesh.h\\n\\n    @echo \"Building $<\"\\n\\n    $(CXX) -c $(CXXFLAGS) -o $@  $<\\n\\n\\nall: $(LULESH_EXEC)\\n\\n\\nlulesh2.0: $(OBJECTS2.0)\\n\\n    @echo \"Linking\"\\n\\n    $(CXX) $(OBJECTS2.0) $(LDFLAGS) -lm -o $@\\n\\n\\nclean:\\n\\n    /bin/rm -f *.o *~ $(OBJECTS) $(LULESH_EXEC)\\n\\n    /bin/rm -rf *.dSYM\\n\\n\\ntar: clean\\n\\n    cd .. ; tar cvf lulesh-2.0.tar LULESH-2.0 ; mv lulesh-2.0.tar LULESH-2.0'"
       ]
      }
     ],
     "prompt_number": 11
    },
    {
     "cell_type": "code",
     "collapsed": false,
     "input": [],
     "language": "python",
     "metadata": {},
     "outputs": []
    }
   ],
   "metadata": {}
  }
 ]
}